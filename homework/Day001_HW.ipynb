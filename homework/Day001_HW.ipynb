{
 "cells": [
  {
   "cell_type": "markdown",
   "metadata": {},
   "source": [
    "# 資料來源與檔案存取\n",
    "\n",
    "* 資料來源與取得\n",
    "* 開放資料\n",
    "* 資料儲存格式\n",
    "* Python 存取檔案"
   ]
  },
  {
   "cell_type": "markdown",
   "metadata": {},
   "source": [
    "## 作業目標\n",
    "\n",
    "* 1.（簡答題）檔案、API、爬蟲三種取得資料方式有什麼不同？\n",
    "* 2.（實作）完成一個程式，需滿足下列需求：\n",
    "    * 下載指定檔案到 Data 資料夾，存成檔名 Homework.txt\n",
    "    * 檢查 Data 資料夾是否有 Homework.txt 檔名之檔案\n",
    "    * 將「Hello World」字串覆寫到 Homework.txt 檔案\n",
    "    * 檢查 Homework.txt 檔案字數是否符合 Hello World 字數\n"
   ]
  },
  {
   "cell_type": "markdown",
   "metadata": {},
   "source": [
    "### 1.（簡答題）檔案、API、爬蟲三種取得資料方式有什麼不同？"
   ]
  },
  {
   "cell_type": "markdown",
   "metadata": {},
   "source": [
    "### 2.（實作）完成一個程式，需滿足下列需求：\n",
    "    * 下載指定檔案到 Data 資料夾，存成檔名 Homework.txt\n",
    "    * 檢查 Data 資料夾是否有 Homework.txt 檔名之檔案\n",
    "    * 將「Hello World」字串覆寫到 Homework.txt 檔案\n",
    "    * 檢查 Homework.txt 檔案字數是否符合 Hello World 字數\n"
   ]
  },
  {
   "cell_type": "code",
   "execution_count": 1,
   "metadata": {},
   "outputs": [],
   "source": [
    "# 根據需求引入正確的 Library\n",
    "\n",
    "from urllib.request import urlretrieve\n",
    "import os"
   ]
  },
  {
   "cell_type": "code",
   "execution_count": 6,
   "metadata": {},
   "outputs": [
    {
     "name": "stdout",
     "output_type": "stream",
     "text": [
      "123\n"
     ]
    }
   ],
   "source": [
    "# 下載檔案到 Data 資料夾，存成檔名 Homework.txt\n",
    "\n",
    "try:\n",
    "    os.makedirs( './Data', exist_ok=True )\n",
    "    '''\n",
    "    Your Code\n",
    "    '''\n",
    "    urlretrieve (\"https://www.w3.org/TR/PNG/iso_8859-1.txt\", \"./Data/Homework.txt\")\n",
    "except:\n",
    "    print('發生錯誤！')"
   ]
  },
  {
   "cell_type": "code",
   "execution_count": 7,
   "metadata": {},
   "outputs": [
    {
     "ename": "NameError",
     "evalue": "name 'os' is not defined",
     "output_type": "error",
     "traceback": [
      "\u001b[1;31m---------------------------------------------------------------------------\u001b[0m",
      "\u001b[1;31mNameError\u001b[0m                                 Traceback (most recent call last)",
      "\u001b[1;32m<ipython-input-7-732a386eb177>\u001b[0m in \u001b[0;36m<module>\u001b[1;34m\u001b[0m\n\u001b[0;32m      7\u001b[0m \u001b[1;33m\u001b[0m\u001b[0m\n\u001b[0;32m      8\u001b[0m '''\n\u001b[1;32m----> 9\u001b[1;33m \u001b[0mdirs\u001b[0m \u001b[1;33m=\u001b[0m \u001b[0mos\u001b[0m\u001b[1;33m.\u001b[0m\u001b[0mlistdir\u001b[0m\u001b[1;33m(\u001b[0m\u001b[1;34m'./Data'\u001b[0m\u001b[1;33m)\u001b[0m\u001b[1;33m\u001b[0m\u001b[1;33m\u001b[0m\u001b[0m\n\u001b[0m\u001b[0;32m     10\u001b[0m \u001b[1;32mfor\u001b[0m \u001b[0mfiles\u001b[0m \u001b[1;32min\u001b[0m \u001b[0mdirs\u001b[0m\u001b[1;33m:\u001b[0m\u001b[1;33m\u001b[0m\u001b[1;33m\u001b[0m\u001b[0m\n\u001b[0;32m     11\u001b[0m     \u001b[0mfiles\u001b[0m\u001b[1;33m.\u001b[0m\u001b[0mappend\u001b[0m\u001b[1;33m(\u001b[0m\u001b[0mfiles\u001b[0m\u001b[1;33m)\u001b[0m\u001b[1;33m\u001b[0m\u001b[1;33m\u001b[0m\u001b[0m\n",
      "\u001b[1;31mNameError\u001b[0m: name 'os' is not defined"
     ]
    }
   ],
   "source": [
    "# 檢查 Data 資料夾是否有 Homework.txt 檔名之檔案\n",
    "\n",
    "files = []\n",
    "\n",
    "'''\n",
    "Your Code\n",
    "\n",
    "'''\n",
    "dirs = os.listdir('./Data')\n",
    "for files in dirs:\n",
    "    files.append(files)\n",
    "if 'Homework.txt' in files:\n",
    "    print('[O] 檢查 Data 資料夾是否有 Homework.txt 檔名之檔案')\n",
    "else:\n",
    "    print('[X] 檢查 Data 資料夾是否有 Homework.txt 檔名之檔案')"
   ]
  },
  {
   "cell_type": "code",
   "execution_count": 6,
   "metadata": {},
   "outputs": [],
   "source": [
    "# 將「Hello World」字串覆寫到 Homework.txt 檔案\n",
    "\n",
    "f = ''\n",
    "\n",
    "with open(\"./Data/Homework.txt\", \"w\") as fh:\n",
    "    '''\n",
    "    Your Code\n",
    "    '''\n",
    "Hello World\n",
    "try:\n",
    "    with open(\"./Data/Homework.txt\", \"r\") as fh:\n",
    "        '''\n",
    "        Your Code\n",
    "        '''\n",
    "except EnvironmentError: # parent of IOError, OSError *and* WindowsError where available\n",
    "    pass    \n",
    "    \n"
   ]
  },
  {
   "cell_type": "code",
   "execution_count": 7,
   "metadata": {
    "scrolled": true
   },
   "outputs": [
    {
     "name": "stdout",
     "output_type": "stream",
     "text": [
      "[X] 檢查 Homework.txt 檔案字數是否符合 Hello World 字數\n"
     ]
    }
   ],
   "source": [
    "# 檢查 Homework.txt 檔案字數是否符合 Hello World 字數\n",
    "\n",
    "if len('Hello World') == len(f):\n",
    "    print('[O] 檢查 Homework.txt 檔案字數是否符合 Hello World 字數')\n",
    "else:\n",
    "    print('[X] 檢查 Homework.txt 檔案字數是否符合 Hello World 字數')"
   ]
  },
  {
   "cell_type": "code",
   "execution_count": null,
   "metadata": {},
   "outputs": [],
   "source": []
  },
  {
   "cell_type": "code",
   "execution_count": null,
   "metadata": {},
   "outputs": [],
   "source": []
  },
  {
   "cell_type": "code",
   "execution_count": null,
   "metadata": {},
   "outputs": [],
   "source": []
  }
 ],
 "metadata": {
  "kernelspec": {
   "display_name": "Python 3",
   "language": "python",
   "name": "python3"
  },
  "language_info": {
   "codemirror_mode": {
    "name": "ipython",
    "version": 3
   },
   "file_extension": ".py",
   "mimetype": "text/x-python",
   "name": "python",
   "nbconvert_exporter": "python",
   "pygments_lexer": "ipython3",
   "version": "3.7.4"
  }
 },
 "nbformat": 4,
 "nbformat_minor": 2
}
