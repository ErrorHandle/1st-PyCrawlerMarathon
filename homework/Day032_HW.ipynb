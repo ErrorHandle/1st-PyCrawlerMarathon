{
 "cells": [
  {
   "cell_type": "markdown",
   "metadata": {},
   "source": [
    "# 反爬：瀏覽器標頭與基本資訊\n",
    "\n",
    "\n",
    "* 了解「檢查 HTTP 標頭檔」的反爬蟲機制\n",
    "* 「檢查 HTTP 標頭檔」反爬蟲的因應策略\n"
   ]
  },
  {
   "cell_type": "markdown",
   "metadata": {},
   "source": [
    "## 作業目標\n",
    "\n",
    "* 尋找一個網站是有作 Header 檢查的（Hint: 有加跟沒有加回傳結果不一樣）\n",
    "* 用上述網站說明該如何判斷 Header 中必須加上哪些資料才會正確\n"
   ]
  },
  {
   "cell_type": "markdown",
   "metadata": {},
   "source": [
    "### 尋找一個網站是有作 Header 檢查的（Hint: 有加跟沒有加回傳結果不一樣）"
   ]
  },
  {
   "cell_type": "code",
   "execution_count": 1,
   "metadata": {},
   "outputs": [],
   "source": [
    "\"\"\"\n",
    "Your Code Here\n",
    "\"\"\"\n",
    "import requests\n",
    "from bs4 import BeautifulSoup\n",
    "url = 'https://m.wantgoo.com/stock/twstock/stat?type=increase'"
   ]
  },
  {
   "cell_type": "markdown",
   "metadata": {},
   "source": [
    "### 用上述網站說明該如何判斷 Header 中必須加上哪些資料才會正確\n"
   ]
  },
  {
   "cell_type": "code",
   "execution_count": 2,
   "metadata": {},
   "outputs": [],
   "source": [
    "\"\"\"\n",
    "Your Code Here\n",
    "\"\"\"\n",
    "headers = {\n",
    "    'x-requested-with': 'XMLHttpRequest',\n",
    "    'user-agent': 'Mozilla/5.0 (Windows NT 10.0; Win64; x64) AppleWebKit/537.36 (KHTML, like Gecko) Chrome/79.0.3945.130 Safari/537.36',\n",
    "    'sec-fetch-site': 'same-origin',\n",
    "    'sec-fetch-mode': 'cors',\n",
    "    'referer': 'https://www.wantgoo.com/global/stockindex?StockNo=ln',\n",
    "    'cookie': 'cf_clearance=6547777ef06d855ccdfeb4ff10d93b922f3d8d7b-1580715817-0-150; __cfduid=d1d20d94fd8a21d3e8342c453965870b31580715817; BID=76B35637-1443-4CD5-B22F-6EB51F713271; _ga=GA1.2.1506491883.1580715818; _gid=GA1.2.1588132232.1580715818; _fbp=fb.1.1580715818350.300524177; _hjid=86ba1e95-9f36-4166-aeaa-3010b9e84f45; BrowserMode=Web; _gat_gtag_UA_6993262_2=1; wcsid=OZ7LnSLweLzUZzfu3h7B70HW6AbB6oH3; hblid=E3XznMlyHFbg52Bc3h7B70HHWaBU6kjr; _okdetect=%7B%22token%22%3A%2215807206229770%22%2C%22proto%22%3A%22https%3A%22%2C%22host%22%3A%22www.wantgoo.com%22%7D; olfsk=olfsk020950027088451284; _okbk=cd4%3Dtrue%2Cvi5%3D0%2Cvi4%3D1580720623872%2Cvi3%3Dactive%2Cvi2%3Dfalse%2Cvi1%3Dfalse%2Ccd8%3Dchat%2Ccd6%3D0%2Ccd5%3Daway%2Ccd3%3Dfalse%2Ccd2%3D0%2Ccd1%3D0%2C; _ok=8391-691-10-7433; _oklv=1580720651525%2COZ7LnSLweLzUZzfu3h7B70HW6AbB6oH3',\n",
    "    'accept-language': 'zh-TW,zh;q=0.9,en-US;q=0.8,en;q=0.7',\n",
    "    'accept': '*/*'\n",
    "}"
   ]
  },
  {
   "cell_type": "code",
   "execution_count": 3,
   "metadata": {},
   "outputs": [
    {
     "name": "stdout",
     "output_type": "stream",
     "text": [
      "[<tr>\n",
      "<td><a href=\"/s/1732\"><span class=\"stkNC\">毛寶<i>1732</i></span></a></td><td>21.45</td><td class=\"upl\"><b class=\"stkChg\">▲ 1.95<i>10.00</i></b></td><td class=\"up\">▲ 20.85</td><td>0.00</td><td class=\"upl\">21.45</td><td class=\"upl\">21.45</td><td>567</td><td>0.12</td><td>1.34</td><td class=\"up\">0.19</td><td class=\"up\">375.00</td><td class=\"up\">4.01</td><td class=\"up\">7.47</td><td class=\"up\">0.32</td> </tr>, <tr>\n",
      "<td><a href=\"/s/3373\"><span class=\"stkNC\">熱映<i>3373</i></span></a></td><td>23.65</td><td class=\"upl\"><b class=\"stkChg\">▲ 2.15<i>10.00</i></b></td><td class=\"up\">▲ 20.97</td><td>4.65</td><td class=\"upl\">23.65</td><td class=\"up\">22.65</td><td>3,060</td><td>0.72</td><td>7.07</td><td class=\"up\">0.25</td><td class=\"up\">8.70</td><td class=\"up\">3.4</td><td class=\"dn\">-9.14</td><td class=\"dn\">-5.65</td> </tr>, <tr>\n",
      "<td><a href=\"/s/4304\"><span class=\"stkNC\">勝昱<i>4304</i></span></a></td><td>7.16</td><td class=\"upl\"><b class=\"stkChg\">▲ 0.65<i>9.98</i></b></td><td class=\"up\">▲ 3.32</td><td>17.67</td><td class=\"upl\">7.16</td><td class=\"dn\">6.01</td><td>17</td><td>0.00</td><td>0.05</td><td class=\"dn\">-0.36</td><td class=\"dn\">連續虧損</td><td class=\"dn\">-3.04</td><td class=\"dn\">-14.23</td><td class=\"dn\">-6.79</td> </tr>, <tr>\n",
      "<td><a href=\"/s/9944\"><span class=\"stkNC\">新麗<i>9944</i></span></a></td><td>28.65</td><td class=\"upl\"><b class=\"stkChg\">▲ 2.60<i>9.98</i></b></td><td class=\"up\">▲ 20.89</td><td>8.83</td><td class=\"upl\">28.65</td><td class=\"up\">26.35</td><td>8,098</td><td>2.32</td><td>7.42</td><td class=\"dn\">-0.29</td><td class=\"dn\">盈轉虧</td><td class=\"up\">3.18</td><td class=\"up\">23.18</td><td class=\"up\">3.73</td> </tr>, <tr>\n",
      "<td><a href=\"/s/1325\"><span class=\"stkNC\">恆大<i>1325</i></span></a></td><td>27</td><td class=\"upl\"><b class=\"stkChg\">▲ 2.45<i>9.98</i></b></td><td class=\"up\">▲ 20.81</td><td>0.00</td><td class=\"upl\">27</td><td class=\"upl\">27</td><td>243</td><td>0.07</td><td>0.28</td><td class=\"up\">0.06</td><td class=\"dn\">-57.14</td><td class=\"up\">3.34</td><td class=\"up\">18.43</td><td class=\"dn\">-25.65</td> </tr>, <tr>\n",
      "<td><a href=\"/s/9103\"><span class=\"stkNC\">美德醫療-DR<i>9103</i></span></a></td><td>2.54</td><td class=\"upl\"><b class=\"stkChg\">▲ 0.23<i>9.96</i></b></td><td class=\"up\">▲ 20.95</td><td>0.00</td><td class=\"upl\">2.54</td><td class=\"upl\">2.54</td><td>276</td><td>0.01</td><td>0.06</td><td class=\"\"></td><td class=\"\"></td><td class=\"\"></td><td class=\"\"></td><td class=\"\"></td> </tr>, <tr>\n",
      "<td><a href=\"/s/4133\"><span class=\"stkNC\">亞諾法<i>4133</i></span></a></td><td>33.15</td><td class=\"upl\"><b class=\"stkChg\">▲ 3.00<i>9.95</i></b></td><td class=\"up\">▲ 20.77</td><td>0.00</td><td class=\"upl\">33.15</td><td class=\"upl\">33.15</td><td>1,741</td><td>0.58</td><td>2.88</td><td class=\"up\">0.01</td><td class=\"dn\">-75.00</td><td class=\"dn\">-0.67</td><td class=\"dn\">-13.77</td><td class=\"up\">12.53</td> </tr>, <tr>\n",
      "<td><a href=\"/s/1730\"><span class=\"stkNC\">花仙子<i>1730</i></span></a></td><td>97.3</td><td class=\"upl\"><b class=\"stkChg\">▲ 8.80<i>9.94</i></b></td><td class=\"up\">▲ 14.47</td><td>8.36</td><td class=\"upl\">97.3</td><td class=\"up\">89.9</td><td>7,944</td><td>7.73</td><td>12.56</td><td class=\"up\">1.04</td><td class=\"dn\">-34.59</td><td class=\"up\">13.76</td><td class=\"dn\">-8.75</td><td class=\"dn\">-40.03</td> </tr>, <tr>\n",
      "<td><a href=\"/s/1752\"><span class=\"stkNC\">南光<i>1752</i></span></a></td><td>47.55</td><td class=\"upl\"><b class=\"stkChg\">▲ 4.30<i>9.94</i></b></td><td class=\"up\">▲ 12.68</td><td>12.37</td><td class=\"upl\">47.55</td><td class=\"dn\">42.2</td><td>4,423</td><td>2.10</td><td>4.38</td><td class=\"up\">0.6</td><td class=\"up\">42.86</td><td class=\"up\">12.51</td><td class=\"up\">17.69</td><td class=\"up\">29.03</td> </tr>, <tr>\n",
      "<td><a href=\"/s/4735\"><span class=\"stkNC\">豪展<i>4735</i></span></a></td><td>56.4</td><td class=\"upl\"><b class=\"stkChg\">▲ 5.10<i>9.94</i></b></td><td class=\"up\">▲ 9.94</td><td>7.02</td><td class=\"upl\">56.4</td><td class=\"up\">52.8</td><td>3,309</td><td>1.87</td><td>9.90</td><td class=\"up\">1.51</td><td class=\"up\">67.78</td><td class=\"up\">13.96</td><td class=\"up\">2.29</td><td class=\"dn\">-30.74</td> </tr>, <tr>\n",
      "<td><a href=\"/s/2419\"><span class=\"stkNC\">仲琦<i>2419</i></span></a></td><td>23.25</td><td class=\"upl\"><b class=\"stkChg\">▲ 2.10<i>9.93</i></b></td><td class=\"up\">▲ 11.51</td><td>11.58</td><td class=\"upl\">23.25</td><td class=\"dn\">20.8</td><td>3,090</td><td>0.72</td><td>0.94</td><td class=\"up\">0.29</td><td class=\"dn\">-6.45</td><td class=\"up\">4.48</td><td class=\"up\">31.07</td><td class=\"dn\">-31.25</td> </tr>, <tr>\n",
      "<td><a href=\"/s/1409\"><span class=\"stkNC\">新纖<i>1409</i></span></a></td><td>12.75</td><td class=\"upl\"><b class=\"stkChg\">▲ 1.15<i>9.91</i></b></td><td class=\"up\">▲ 9.91</td><td>12.50</td><td class=\"upl\">12.75</td><td class=\"dn\">11.3</td><td>13,807</td><td>1.76</td><td>0.85</td><td class=\"up\">0.46</td><td class=\"up\">43.75</td><td class=\"\">0</td><td class=\"dn\">-3.08</td><td class=\"dn\">-19.56</td> </tr>, <tr>\n",
      "<td><a href=\"/s/6504\"><span class=\"stkNC\">南六<i>6504</i></span></a></td><td>194.5</td><td class=\"upl\"><b class=\"stkChg\">▲ 17.50<i>9.89</i></b></td><td class=\"up\">▲ 20.81</td><td>0.00</td><td class=\"upl\">194.5</td><td class=\"upl\">194.5</td><td>2,088</td><td>4.06</td><td>2.88</td><td class=\"up\">2.22</td><td class=\"up\">74.80</td><td class=\"up\">10.1</td><td class=\"dn\">-12.63</td><td class=\"dn\">-5.67</td> </tr>, <tr>\n",
      "<td><a href=\"/s/4121\"><span class=\"stkNC\">優盛<i>4121</i></span></a></td><td>13.9</td><td class=\"upl\"><b class=\"stkChg\">▲ 1.25<i>9.88</i></b></td><td class=\"up\">▲ 2.96</td><td>8.70</td><td class=\"upl\">13.9</td><td class=\"up\">12.8</td><td>5,909</td><td>0.82</td><td>8.06</td><td class=\"up\">0.06</td><td class=\"up\">20.00</td><td class=\"up\">0.6</td><td class=\"up\">26.16</td><td class=\"up\">14.78</td> </tr>, <tr>\n",
      "<td><a href=\"/s/3562\"><span class=\"stkNC\">頂晶科<i>3562</i></span></a></td><td>12.8</td><td class=\"upl\"><b class=\"stkChg\">▲ 1.15<i>9.87</i></b></td><td class=\"up\">▲ 7.11</td><td>6.01</td><td class=\"upl\">12.8</td><td class=\"up\">12.1</td><td>481</td><td>0.06</td><td>0.62</td><td class=\"dn\">-0.3</td><td class=\"dn\">盈轉虧</td><td class=\"dn\">-2.89</td><td class=\"up\">20.94</td><td class=\"up\">43.63</td> </tr>, <tr>\n",
      "<td><a href=\"/s/1734\"><span class=\"stkNC\">杏輝<i>1734</i></span></a></td><td>25.65</td><td class=\"upl\"><b class=\"stkChg\">▲ 2.30<i>9.85</i></b></td><td class=\"up\">▲ 17.39</td><td>8.78</td><td class=\"upl\">25.65</td><td class=\"up\">23.6</td><td>8,466</td><td>2.17</td><td>5.05</td><td class=\"dn\">-0.06</td><td class=\"dn\">連續虧損</td><td class=\"dn\">-8.79</td><td class=\"up\">8.85</td><td class=\"up\">30.31</td> </tr>, <tr>\n",
      "<td><a href=\"/s/8906\"><span class=\"stkNC\">花王<i>8906</i></span></a></td><td>21.75</td><td class=\"upl\"><b class=\"stkChg\">▲ 1.95<i>9.85</i></b></td><td class=\"up\">▲ 20.83</td><td>9.85</td><td class=\"upl\">21.75</td><td class=\"\">19.8</td><td>1,963</td><td>0.43</td><td>5.77</td><td class=\"up\">0.22</td><td class=\"up\">46.67</td><td class=\"dn\">-1.54</td><td class=\"dn\">-20.59</td><td class=\"up\">4.87</td> </tr>, <tr>\n",
      "<td><a href=\"/s/4171\"><span class=\"stkNC\">瑞基<i>4171</i></span></a></td><td>63.6</td><td class=\"upl\"><b class=\"stkChg\">▲ 5.70<i>9.84</i></b></td><td class=\"up\">▲ 11.78</td><td>13.99</td><td class=\"upl\">63.6</td><td class=\"dn\">55.5</td><td>621</td><td>0.39</td><td>1.53</td><td class=\"up\">0.44</td><td class=\"dn\">-30.16</td><td class=\"up\">29.74</td><td class=\"up\">12.35</td><td class=\"up\">100.03</td> </tr>, <tr>\n",
      "<td><a href=\"/s/8409\"><span class=\"stkNC\">商之器<i>8409</i></span></a></td><td>16.2</td><td class=\"upl\"><b class=\"stkChg\">▲ 1.45<i>9.83</i></b></td><td class=\"up\">▲ 11.72</td><td>8.47</td><td class=\"upl\">16.2</td><td class=\"up\">14.95</td><td>148</td><td>0.02</td><td>0.53</td><td class=\"dn\">-0.84</td><td class=\"dn\">連續虧損</td><td class=\"dn\">-32.15</td><td class=\"up\">187.11</td><td class=\"up\">26.98</td> </tr>, <tr>\n",
      "<td><a href=\"/s/1475\"><span class=\"stkNC\">本盟<i>1475</i></span></a></td><td>13.45</td><td class=\"upl\"><b class=\"stkChg\">▲ 1.20<i>9.80</i></b></td><td class=\"up\">▲ 20.63</td><td>0.00</td><td class=\"upl\">13.45</td><td class=\"upl\">13.45</td><td>69</td><td>0.01</td><td>0.43</td><td class=\"up\">0.51</td><td class=\"up\">虧轉盈</td><td class=\"dn\">-48.78</td><td class=\"up\">9.02</td><td class=\"dn\">-15.19</td> </tr>, <tr>\n",
      "<td><a href=\"/s/1781\"><span class=\"stkNC\">合世<i>1781</i></span></a></td><td>11.25</td><td class=\"upl\"><b class=\"stkChg\">▲ 1.00<i>9.76</i></b></td><td class=\"up\">▲ 20.19</td><td>0.00</td><td class=\"upl\">11.25</td><td class=\"upl\">11.25</td><td>275</td><td>0.03</td><td>0.58</td><td class=\"dn\">-0.31</td><td class=\"dn\">連續虧損</td><td class=\"dn\">-18.76</td><td class=\"up\">51.52</td><td class=\"up\">17.91</td> </tr>, <tr>\n",
      "<td><a href=\"/s/8080\"><span class=\"stkNC\">永利聯合<i>8080</i></span></a></td><td>3.94</td><td class=\"upl\"><b class=\"stkChg\">▲ 0.35<i>9.75</i></b></td><td class=\"up\">▲ 20.49</td><td>0.00</td><td class=\"upl\">3.94</td><td class=\"upl\">3.94</td><td>162</td><td>0.01</td><td>0.25</td><td class=\"up\">0.01</td><td class=\"up\">虧轉盈</td><td class=\"dn\">-248.5</td><td class=\"up\">1.52</td><td class=\"up\">125.01</td> </tr>, <tr>\n",
      "<td><a href=\"/s/8215\"><span class=\"stkNC\">明基材<i>8215</i></span></a></td><td>18.6</td><td class=\"upl\"><b class=\"stkChg\">▲ 1.65<i>9.73</i></b></td><td class=\"up\">▲ 11.04</td><td>6.49</td><td class=\"upl\">18.6</td><td class=\"up\">17.5</td><td>14,463</td><td>2.69</td><td>4.51</td><td class=\"up\">0.21</td><td class=\"dn\">-22.22</td><td class=\"up\">3.73</td><td class=\"up\">6.09</td><td class=\"up\">3.74</td> </tr>, <tr>\n",
      "<td><a href=\"/s/4147\"><span class=\"stkNC\">中裕<i>4147</i></span></a></td><td>101.5</td><td class=\"upl\"><b class=\"stkChg\">▲ 9.00<i>9.73</i></b></td><td class=\"up\">▲ 11.42</td><td>13.84</td><td class=\"upl\">101.5</td><td class=\"dn\">88.7</td><td>4,436</td><td>4.50</td><td>1.76</td><td class=\"dn\">-1.28</td><td class=\"dn\">連續虧損</td><td class=\"dn\">-78.56</td><td class=\"dn\">-100</td><td class=\"dn\">-100</td> </tr>, <tr>\n",
      "<td><a href=\"/s/9919\"><span class=\"stkNC\">康那香<i>9919</i></span></a></td><td>17.5</td><td class=\"upl\"><b class=\"stkChg\">▲ 1.55<i>9.72</i></b></td><td class=\"up\">▲ 20.69</td><td>0.00</td><td class=\"upl\">17.5</td><td class=\"upl\">17.5</td><td>2,489</td><td>0.44</td><td>1.27</td><td class=\"dn\">-0.11</td><td class=\"dn\">連續虧損</td><td class=\"dn\">-0.8</td><td class=\"up\">7.3</td><td class=\"up\">12.97</td> </tr>, <tr>\n",
      "<td><a href=\"/s/4760\"><span class=\"stkNC\">勤凱<i>4760</i></span></a></td><td>66.7</td><td class=\"up\"><b class=\"stkChg\">▲ 5.90<i>9.70</i></b></td><td class=\"up\">▲ 10.61</td><td>13.98</td><td class=\"up\">66.7</td><td class=\"dn\">58.2</td><td>918</td><td>0.61</td><td>3.11</td><td class=\"up\">0.12</td><td class=\"dn\">-7.69</td><td class=\"up\">5.19</td><td class=\"up\">11.12</td><td class=\"up\">91.64</td> </tr>, <tr>\n",
      "<td><a href=\"/s/4960\"><span class=\"stkNC\">誠美材<i>4960</i></span></a></td><td>7.4</td><td class=\"up\"><b class=\"stkChg\">▲ 0.62<i>9.14</i></b></td><td class=\"up\">▲ 12.29</td><td>6.64</td><td class=\"upl\">7.45</td><td class=\"up\">7</td><td>1,141</td><td>0.08</td><td>0.17</td><td class=\"dn\">-0.38</td><td class=\"dn\">連續虧損</td><td class=\"dn\">-2.7</td><td class=\"dn\">-3.78</td><td class=\"dn\">-13.91</td> </tr>, <tr>\n",
      "<td><a href=\"/s/8059\"><span class=\"stkNC\">凱碩<i>8059</i></span></a></td><td>20.5</td><td class=\"up\"><b class=\"stkChg\">▲ 1.70<i>9.04</i></b></td><td class=\"up\">▲ 19.88</td><td>17.29</td><td class=\"upl\">20.65</td><td class=\"dn\">17.4</td><td>3,306</td><td>0.68</td><td>1.75</td><td class=\"up\">0.29</td><td class=\"up\">480.00</td><td class=\"up\">1.61</td><td class=\"up\">19.57</td><td class=\"up\">349.61</td> </tr>, <tr>\n",
      "<td><a href=\"/s/2910\"><span class=\"stkNC\">統領<i>2910</i></span></a></td><td>33.9</td><td class=\"up\"><b class=\"stkChg\">▲ 2.80<i>9.00</i></b></td><td class=\"up\">▲ 9.71</td><td>0.00</td><td class=\"up\">33.9</td><td class=\"up\">33.9</td><td>2</td><td>0.00</td><td>0.00</td><td class=\"up\">0.1</td><td class=\"up\">100.00</td><td class=\"up\">16.67</td><td class=\"up\">32.2</td><td class=\"up\">11.65</td> </tr>, <tr>\n",
      "<td><a href=\"/s/1731\"><span class=\"stkNC\">美吾華<i>1731</i></span></a></td><td>15.25</td><td class=\"up\"><b class=\"stkChg\">▲ 1.25<i>8.93</i></b></td><td class=\"up\">▲ 2.35</td><td>7.14</td><td class=\"up\">15.3</td><td class=\"up\">14.3</td><td>6,890</td><td>1.05</td><td>5.18</td><td class=\"up\">0.21</td><td class=\"dn\">-4.55</td><td class=\"up\">14.58</td><td class=\"up\">7.39</td><td class=\"dn\">-5.34</td> </tr>]\n"
     ]
    }
   ],
   "source": [
    "resp = requests.get(url, headers = headers)\n",
    "\n",
    "html = BeautifulSoup(resp.text, \"html.parser\")\n",
    "tbody = html.find('body').find('div', attrs = {'id': 'wrap'}).find('article').find('div', class_ = 'mTbBox fixTbScroll-h').find('tbody').find_all('tr')\n",
    "print(tbody)"
   ]
  }
 ],
 "metadata": {
  "kernelspec": {
   "display_name": "Python 3",
   "language": "python",
   "name": "python3"
  },
  "language_info": {
   "codemirror_mode": {
    "name": "ipython",
    "version": 3
   },
   "file_extension": ".py",
   "mimetype": "text/x-python",
   "name": "python",
   "nbconvert_exporter": "python",
   "pygments_lexer": "ipython3",
   "version": "3.7.4"
  }
 },
 "nbformat": 4,
 "nbformat_minor": 2
}
