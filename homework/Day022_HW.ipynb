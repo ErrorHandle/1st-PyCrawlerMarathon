{
 "cells": [
  {
   "cell_type": "markdown",
   "metadata": {},
   "source": [
    "# 空氣污染監測網 網路爬蟲實作練習\n",
    "\n",
    "\n",
    "* 能夠利用 selenium + BeautifulSoup 撰寫爬蟲，並存放到合適的資料結構\n"
   ]
  },
  {
   "cell_type": "markdown",
   "metadata": {},
   "source": [
    "## 作業目標\n",
    "\n",
    "根據範例 ，完成以下問題：\n",
    "\n",
    "* ① 取出 台北市士林區 2018/01 – 2018/08 的 SO2 資料\n",
    "* ② 取出 台北市士林區 2018/01 – 2018/08 的 SO2、CO 資料\n",
    "\n",
    "\n",
    "\n"
   ]
  },
  {
   "cell_type": "markdown",
   "metadata": {},
   "source": [
    "### ① 取出 台北市士林區 2018/01 – 2018/08 的 SO2 資料"
   ]
  },
  {
   "cell_type": "code",
   "execution_count": 12,
   "metadata": {},
   "outputs": [
    {
     "name": "stdout",
     "output_type": "stream",
     "text": [
      "SO2\n",
      "2018/01, 1.80\n",
      "2018/02, 1.90\n",
      "2018/03, 2.20\n",
      "2018/04, 2.30\n",
      "2018/05, 3.10\n",
      "2018/06, 2.70\n",
      "2018/07, 2.20\n",
      "2018/08, 2.40\n"
     ]
    }
   ],
   "source": [
    "from selenium import webdriver\n",
    "from selenium.webdriver.support.ui import Select\n",
    "from bs4 import BeautifulSoup\n",
    "import time\n",
    "# 動態網頁運用Selenium來模擬使用網頁\n",
    "browser = webdriver.Chrome(\"C:/Users/mark.ma/Desktop/Python/pyM/chromedriver\")\n",
    "url = \"http://taqm.epa.gov.tw/taqm/tw/MonthlyAverage.aspx\"\n",
    "browser.get(url)\n",
    "\n",
    "#透過 Name 找尋 Element，頁面內找到的第一個該 Name 元素會被匹配並返回。反之會回傳 NoSuchElementException\n",
    "selectSite = Select(browser.find_element_by_name(\"ctl05$ddlSite\"))\n",
    "#對此 Name element set value\n",
    "selectSite.select_by_value('11')\n",
    "\n",
    "selectYear = Select(browser.find_element_by_name(\"ctl05$ddlYear\"))\n",
    "selectYear.select_by_value('2018')\n",
    "\n",
    "browser.find_element_by_name(\"ctl05$btnQuery\").click()\n",
    "time.sleep(5)\n",
    "html_source = browser.page_source\n",
    "\n",
    "soup = BeautifulSoup(html_source, 'html.parser')\n",
    "table = soup.find('table', class_='TABLE_G')\n",
    "trlist = table.find_all('tr', attrs = {'style': 'color:Black;'})\n",
    "\n",
    "\n",
    "for idx, tr in enumerate(trlist):\n",
    "\n",
    "    if idx > 7:\n",
    "        break\n",
    "    elif idx == 0:\n",
    "        print(tr.find('td', attrs = {'style': 'white-space:nowrap;'}).text)\n",
    "        print(\"%s, %s\" %(tr.find_all('td')[2].string, tr.find_all('td')[3].string))\n",
    "    else:\n",
    "        date = tr.find_all('td')[0].string\n",
    "        value = tr.find_all('td')[1].string\n",
    "        print(\"%s, %s\" %(date, value))\n",
    "\n"
   ]
  },
  {
   "cell_type": "markdown",
   "metadata": {},
   "source": [
    "### ② 取出 台北市士林區 2018/01 – 2018/08 的 SO2、CO 資料"
   ]
  },
  {
   "cell_type": "code",
   "execution_count": 13,
   "metadata": {},
   "outputs": [
    {
     "data": {
      "text/plain": [
       "'\\nYour Code\\n'"
      ]
     },
     "execution_count": 13,
     "metadata": {},
     "output_type": "execute_result"
    }
   ],
   "source": [
    "'''\n",
    "Your Code\n",
    "'''\n",
    "for idx, tr in enumerate(trlist):\n",
    "    # targetName = tr.find_all('td', attrs = {'style': 'white-space:nowrap;'}).string\n",
    "    if idx > 23:\n",
    "        break\n",
    "    elif idx %12 == 0:\n",
    "        print(tr.find('td', attrs = {'style': 'white-space:nowrap;'}).text)\n",
    "        print(\"%s, %s\" %(tr.find_all('td')[2].string, tr.find_all('td')[3].string))\n",
    "    elif idx % 12 < 8:\n",
    "        date = tr.find_all('td')[0].string\n",
    "        value = tr.find_all('td')[1].string\n",
    "        print(\"%s, %s\" %(date, value))\n",
    "browser.quit()"
   ]
  },
  {
   "cell_type": "code",
   "execution_count": null,
   "metadata": {},
   "outputs": [],
   "source": []
  }
 ],
 "metadata": {
  "kernelspec": {
   "display_name": "Python 3",
   "language": "python",
   "name": "python3"
  },
  "language_info": {
   "codemirror_mode": {
    "name": "ipython",
    "version": 3
   },
   "file_extension": ".py",
   "mimetype": "text/x-python",
   "name": "python",
   "nbconvert_exporter": "python",
   "pygments_lexer": "ipython3",
   "version": "3.7.4"
  }
 },
 "nbformat": 4,
 "nbformat_minor": 2
}
